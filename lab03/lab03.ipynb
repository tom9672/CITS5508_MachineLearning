{
  "nbformat": 4,
  "nbformat_minor": 0,
  "metadata": {
    "colab": {
      "name": "lab03.ipynb",
      "provenance": [],
      "collapsed_sections": []
    },
    "kernelspec": {
      "name": "python3",
      "display_name": "Python 3"
    },
    "language_info": {
      "name": "python"
    }
  },
  "cells": [
    {
      "cell_type": "markdown",
      "metadata": {
        "id": "4Xhonj45jWJB"
      },
      "source": [
        "Name: Limin Zhou  \n",
        "Student ID: 22634156  \n",
        "  \n",
        "  \n",
        "Peoject1: Classify ecoli, Use Decision Tree, train on unscaled and scaled set.  \n",
        "Peoject2: Predict Compressive Strength.\n",
        "* Decision Tree Regressor + unscaled Data\n",
        "* Decision Tree Regressor + scaled Data\n",
        "* Support Vector Regressor + scaled Data\n",
        "\n",
        "---\n",
        "\n"
      ]
    },
    {
      "cell_type": "markdown",
      "metadata": {
        "id": "2FY-1x1pobcB"
      },
      "source": [
        "# Project 1"
      ]
    },
    {
      "cell_type": "code",
      "metadata": {
        "id": "-spjV8DDI0KW"
      },
      "source": [
        "import pandas as pd\n",
        "import numpy as np\n",
        "import matplotlib.pyplot as plt\n",
        "%matplotlib inline"
      ],
      "execution_count": null,
      "outputs": []
    },
    {
      "cell_type": "code",
      "metadata": {
        "id": "801jRXjPI8ih"
      },
      "source": [
        "# Read file (ecoli.data)\n",
        "df = pd.read_csv('ecoli.data',header=None)"
      ],
      "execution_count": null,
      "outputs": []
    },
    {
      "cell_type": "code",
      "metadata": {
        "colab": {
          "base_uri": "https://localhost:8080/"
        },
        "id": "n4FtpzKtOhez",
        "outputId": "1c175357-4d64-4b4e-ac15-44f39b059da9"
      },
      "source": [
        "#check the data of ecoli\n",
        "print(df)"
      ],
      "execution_count": null,
      "outputs": [
        {
          "output_type": "stream",
          "text": [
            "                                                     0\n",
            "0    AAT_ECOLI   0.49  0.29  0.48  0.50  0.56  0.24...\n",
            "1    ACEA_ECOLI  0.07  0.40  0.48  0.50  0.54  0.35...\n",
            "2    ACEK_ECOLI  0.56  0.40  0.48  0.50  0.49  0.37...\n",
            "3    ACKA_ECOLI  0.59  0.49  0.48  0.50  0.52  0.45...\n",
            "4    ADI_ECOLI   0.23  0.32  0.48  0.50  0.55  0.25...\n",
            "..                                                 ...\n",
            "331  TREA_ECOLI  0.74  0.56  0.48  0.50  0.47  0.68...\n",
            "332  UGPB_ECOLI  0.71  0.57  0.48  0.50  0.48  0.35...\n",
            "333  USHA_ECOLI  0.61  0.60  0.48  0.50  0.44  0.39...\n",
            "334  XYLF_ECOLI  0.59  0.61  0.48  0.50  0.42  0.42...\n",
            "335  YTFQ_ECOLI  0.74  0.74  0.48  0.50  0.31  0.53...\n",
            "\n",
            "[336 rows x 1 columns]\n"
          ],
          "name": "stdout"
        }
      ]
    },
    {
      "cell_type": "markdown",
      "metadata": {
        "id": "RIu_-KHvOxjF"
      },
      "source": [
        "## Make a dataframe containing both values and lables"
      ]
    },
    {
      "cell_type": "code",
      "metadata": {
        "colab": {
          "base_uri": "https://localhost:8080/",
          "height": 419
        },
        "id": "A_UdE7p0LwEv",
        "outputId": "14aadc28-d1c2-4c16-e82a-f53092fa1cee"
      },
      "source": [
        "labels = ['Sequence_Name','mcg','gvh','lip','chg','aac','alm1','alm2','class']\n",
        "\n",
        "# get values from dataframe (each line in one list, so we need to spilt it)\n",
        "data_list = list(df.values)\n",
        "\n",
        "# create a list to save data\n",
        "data_list_split = []\n",
        "for line in data_list:\n",
        "  # split each line\n",
        "  line = str(line).split( )\n",
        "  # remove the first three characters ( '[' )\n",
        "  line[0] = line[0][2:]\n",
        "\n",
        "  # convert type (string to float), because spilt make all values to string.\n",
        "  for i in range(1,8):\n",
        "    line[i] = float(line[i])\n",
        "\n",
        "  # remove the last three characters ( ']' )\n",
        "  line[-1] = line[-1][:-2]\n",
        "  data_list_split.append(line)\n",
        "\n",
        "# use pandas make a dataframe\n",
        "df_with_labels = pd.DataFrame(data_list_split, columns=labels)\n",
        "df_with_labels"
      ],
      "execution_count": null,
      "outputs": [
        {
          "output_type": "execute_result",
          "data": {
            "text/html": [
              "<div>\n",
              "<style scoped>\n",
              "    .dataframe tbody tr th:only-of-type {\n",
              "        vertical-align: middle;\n",
              "    }\n",
              "\n",
              "    .dataframe tbody tr th {\n",
              "        vertical-align: top;\n",
              "    }\n",
              "\n",
              "    .dataframe thead th {\n",
              "        text-align: right;\n",
              "    }\n",
              "</style>\n",
              "<table border=\"1\" class=\"dataframe\">\n",
              "  <thead>\n",
              "    <tr style=\"text-align: right;\">\n",
              "      <th></th>\n",
              "      <th>Sequence_Name</th>\n",
              "      <th>mcg</th>\n",
              "      <th>gvh</th>\n",
              "      <th>lip</th>\n",
              "      <th>chg</th>\n",
              "      <th>aac</th>\n",
              "      <th>alm1</th>\n",
              "      <th>alm2</th>\n",
              "      <th>class</th>\n",
              "    </tr>\n",
              "  </thead>\n",
              "  <tbody>\n",
              "    <tr>\n",
              "      <th>0</th>\n",
              "      <td>AAT_ECOLI</td>\n",
              "      <td>0.49</td>\n",
              "      <td>0.29</td>\n",
              "      <td>0.48</td>\n",
              "      <td>0.5</td>\n",
              "      <td>0.56</td>\n",
              "      <td>0.24</td>\n",
              "      <td>0.35</td>\n",
              "      <td>cp</td>\n",
              "    </tr>\n",
              "    <tr>\n",
              "      <th>1</th>\n",
              "      <td>ACEA_ECOLI</td>\n",
              "      <td>0.07</td>\n",
              "      <td>0.40</td>\n",
              "      <td>0.48</td>\n",
              "      <td>0.5</td>\n",
              "      <td>0.54</td>\n",
              "      <td>0.35</td>\n",
              "      <td>0.44</td>\n",
              "      <td>cp</td>\n",
              "    </tr>\n",
              "    <tr>\n",
              "      <th>2</th>\n",
              "      <td>ACEK_ECOLI</td>\n",
              "      <td>0.56</td>\n",
              "      <td>0.40</td>\n",
              "      <td>0.48</td>\n",
              "      <td>0.5</td>\n",
              "      <td>0.49</td>\n",
              "      <td>0.37</td>\n",
              "      <td>0.46</td>\n",
              "      <td>cp</td>\n",
              "    </tr>\n",
              "    <tr>\n",
              "      <th>3</th>\n",
              "      <td>ACKA_ECOLI</td>\n",
              "      <td>0.59</td>\n",
              "      <td>0.49</td>\n",
              "      <td>0.48</td>\n",
              "      <td>0.5</td>\n",
              "      <td>0.52</td>\n",
              "      <td>0.45</td>\n",
              "      <td>0.36</td>\n",
              "      <td>cp</td>\n",
              "    </tr>\n",
              "    <tr>\n",
              "      <th>4</th>\n",
              "      <td>ADI_ECOLI</td>\n",
              "      <td>0.23</td>\n",
              "      <td>0.32</td>\n",
              "      <td>0.48</td>\n",
              "      <td>0.5</td>\n",
              "      <td>0.55</td>\n",
              "      <td>0.25</td>\n",
              "      <td>0.35</td>\n",
              "      <td>cp</td>\n",
              "    </tr>\n",
              "    <tr>\n",
              "      <th>...</th>\n",
              "      <td>...</td>\n",
              "      <td>...</td>\n",
              "      <td>...</td>\n",
              "      <td>...</td>\n",
              "      <td>...</td>\n",
              "      <td>...</td>\n",
              "      <td>...</td>\n",
              "      <td>...</td>\n",
              "      <td>...</td>\n",
              "    </tr>\n",
              "    <tr>\n",
              "      <th>331</th>\n",
              "      <td>TREA_ECOLI</td>\n",
              "      <td>0.74</td>\n",
              "      <td>0.56</td>\n",
              "      <td>0.48</td>\n",
              "      <td>0.5</td>\n",
              "      <td>0.47</td>\n",
              "      <td>0.68</td>\n",
              "      <td>0.30</td>\n",
              "      <td>pp</td>\n",
              "    </tr>\n",
              "    <tr>\n",
              "      <th>332</th>\n",
              "      <td>UGPB_ECOLI</td>\n",
              "      <td>0.71</td>\n",
              "      <td>0.57</td>\n",
              "      <td>0.48</td>\n",
              "      <td>0.5</td>\n",
              "      <td>0.48</td>\n",
              "      <td>0.35</td>\n",
              "      <td>0.32</td>\n",
              "      <td>pp</td>\n",
              "    </tr>\n",
              "    <tr>\n",
              "      <th>333</th>\n",
              "      <td>USHA_ECOLI</td>\n",
              "      <td>0.61</td>\n",
              "      <td>0.60</td>\n",
              "      <td>0.48</td>\n",
              "      <td>0.5</td>\n",
              "      <td>0.44</td>\n",
              "      <td>0.39</td>\n",
              "      <td>0.38</td>\n",
              "      <td>pp</td>\n",
              "    </tr>\n",
              "    <tr>\n",
              "      <th>334</th>\n",
              "      <td>XYLF_ECOLI</td>\n",
              "      <td>0.59</td>\n",
              "      <td>0.61</td>\n",
              "      <td>0.48</td>\n",
              "      <td>0.5</td>\n",
              "      <td>0.42</td>\n",
              "      <td>0.42</td>\n",
              "      <td>0.37</td>\n",
              "      <td>pp</td>\n",
              "    </tr>\n",
              "    <tr>\n",
              "      <th>335</th>\n",
              "      <td>YTFQ_ECOLI</td>\n",
              "      <td>0.74</td>\n",
              "      <td>0.74</td>\n",
              "      <td>0.48</td>\n",
              "      <td>0.5</td>\n",
              "      <td>0.31</td>\n",
              "      <td>0.53</td>\n",
              "      <td>0.52</td>\n",
              "      <td>pp</td>\n",
              "    </tr>\n",
              "  </tbody>\n",
              "</table>\n",
              "<p>336 rows × 9 columns</p>\n",
              "</div>"
            ],
            "text/plain": [
              "    Sequence_Name   mcg   gvh   lip  chg   aac  alm1  alm2 class\n",
              "0       AAT_ECOLI  0.49  0.29  0.48  0.5  0.56  0.24  0.35    cp\n",
              "1      ACEA_ECOLI  0.07  0.40  0.48  0.5  0.54  0.35  0.44    cp\n",
              "2      ACEK_ECOLI  0.56  0.40  0.48  0.5  0.49  0.37  0.46    cp\n",
              "3      ACKA_ECOLI  0.59  0.49  0.48  0.5  0.52  0.45  0.36    cp\n",
              "4       ADI_ECOLI  0.23  0.32  0.48  0.5  0.55  0.25  0.35    cp\n",
              "..            ...   ...   ...   ...  ...   ...   ...   ...   ...\n",
              "331    TREA_ECOLI  0.74  0.56  0.48  0.5  0.47  0.68  0.30    pp\n",
              "332    UGPB_ECOLI  0.71  0.57  0.48  0.5  0.48  0.35  0.32    pp\n",
              "333    USHA_ECOLI  0.61  0.60  0.48  0.5  0.44  0.39  0.38    pp\n",
              "334    XYLF_ECOLI  0.59  0.61  0.48  0.5  0.42  0.42  0.37    pp\n",
              "335    YTFQ_ECOLI  0.74  0.74  0.48  0.5  0.31  0.53  0.52    pp\n",
              "\n",
              "[336 rows x 9 columns]"
            ]
          },
          "metadata": {
            "tags": []
          },
          "execution_count": 4
        }
      ]
    },
    {
      "cell_type": "markdown",
      "metadata": {
        "id": "b_XBk5wIQkMG"
      },
      "source": [
        "Done! Processed data."
      ]
    },
    {
      "cell_type": "markdown",
      "metadata": {
        "id": "qTc0uiv6Qc9N"
      },
      "source": [
        "# Part1. Visualize Data"
      ]
    },
    {
      "cell_type": "code",
      "metadata": {
        "colab": {
          "base_uri": "https://localhost:8080/",
          "height": 879
        },
        "id": "Vj-T21ByQciK",
        "outputId": "800973bc-7dbb-45ec-bb22-af773ed60073"
      },
      "source": [
        "df_with_labels.hist(figsize = (10,15));"
      ],
      "execution_count": null,
      "outputs": [
        {
          "output_type": "display_data",
          "data": {
            "image/png": "[encoded data removed]",
            "text/plain": [
              "<Figure size 720x1080 with 9 Axes>"
            ]
          },
          "metadata": {
            "tags": [],
            "needs_background": "light"
          }
        }
      ]
    },
    {
      "cell_type": "markdown",
      "metadata": {
        "id": "q1BGVTRJXQR6"
      },
      "source": [
        "#### Clean Data"
      ]
    },
    {
      "cell_type": "markdown",
      "metadata": {
        "id": "on-n1IC2XUlW"
      },
      "source": [
        "* remove classes which have less than 10 instances"
      ]
    },
    {
      "cell_type": "code",
      "metadata": {
        "colab": {
          "base_uri": "https://localhost:8080/"
        },
        "id": "azer_s1JQSt8",
        "outputId": "ce49a005-efa9-408c-dd2b-1e01abdbb05c"
      },
      "source": [
        "# Find out the name of classes which have less than 10 instances\n",
        "class_value_counts = df_with_labels['class'].value_counts()\n",
        "class_less_than_ten = list(class_value_counts[class_value_counts<10].index)\n",
        "print('Less than 10 instances (list of classes name): ',class_less_than_ten)\n",
        "print()\n",
        "print(class_value_counts)"
      ],
      "execution_count": null,
      "outputs": [
        {
          "output_type": "stream",
          "text": [
            "Less than 10 instances (list of classes name):  ['omL', 'imL', 'imS']\n",
            "\n",
            "cp     143\n",
            "im      77\n",
            "pp      52\n",
            "imU     35\n",
            "om      20\n",
            "omL      5\n",
            "imL      2\n",
            "imS      2\n",
            "Name: class, dtype: int64\n"
          ],
          "name": "stdout"
        }
      ]
    },
    {
      "cell_type": "markdown",
      "metadata": {
        "id": "DXqKgDJqdV54"
      },
      "source": [
        "As the output above, 9 (5+2+2) rows need to be removed"
      ]
    },
    {
      "cell_type": "code",
      "metadata": {
        "colab": {
          "base_uri": "https://localhost:8080/"
        },
        "id": "QkjFSrGNYOD1",
        "outputId": "546a00d9-5a5f-4444-c981-a920798bc823"
      },
      "source": [
        "# Remove rows from dataframe\n",
        "df_without_small_Instance_Class = df_with_labels[~df_with_labels['class'].isin(class_less_than_ten)]\n",
        "df_without_small_Instance_Class = df_without_small_Instance_Class.reset_index()\n",
        "print(df_without_small_Instance_Class)"
      ],
      "execution_count": null,
      "outputs": [
        {
          "output_type": "stream",
          "text": [
            "     index Sequence_Name   mcg   gvh   lip  chg   aac  alm1  alm2 class\n",
            "0        0     AAT_ECOLI  0.49  0.29  0.48  0.5  0.56  0.24  0.35    cp\n",
            "1        1    ACEA_ECOLI  0.07  0.40  0.48  0.5  0.54  0.35  0.44    cp\n",
            "2        2    ACEK_ECOLI  0.56  0.40  0.48  0.5  0.49  0.37  0.46    cp\n",
            "3        3    ACKA_ECOLI  0.59  0.49  0.48  0.5  0.52  0.45  0.36    cp\n",
            "4        4     ADI_ECOLI  0.23  0.32  0.48  0.5  0.55  0.25  0.35    cp\n",
            "..     ...           ...   ...   ...   ...  ...   ...   ...   ...   ...\n",
            "322    331    TREA_ECOLI  0.74  0.56  0.48  0.5  0.47  0.68  0.30    pp\n",
            "323    332    UGPB_ECOLI  0.71  0.57  0.48  0.5  0.48  0.35  0.32    pp\n",
            "324    333    USHA_ECOLI  0.61  0.60  0.48  0.5  0.44  0.39  0.38    pp\n",
            "325    334    XYLF_ECOLI  0.59  0.61  0.48  0.5  0.42  0.42  0.37    pp\n",
            "326    335    YTFQ_ECOLI  0.74  0.74  0.48  0.5  0.31  0.53  0.52    pp\n",
            "\n",
            "[327 rows x 10 columns]\n"
          ],
          "name": "stdout"
        }
      ]
    },
    {
      "cell_type": "markdown",
      "metadata": {
        "id": "5jDNl_SweK_F"
      },
      "source": [
        "Done! Removed the rows of classes less than 10 instances."
      ]
    },
    {
      "cell_type": "markdown",
      "metadata": {
        "id": "EdiSO7CceGRA"
      },
      "source": [
        "* Deal with the non-numerical data"
      ]
    },
    {
      "cell_type": "code",
      "metadata": {
        "colab": {
          "base_uri": "https://localhost:8080/"
        },
        "id": "3dIzx7oneJ5p",
        "outputId": "ed5b6d52-652d-4b33-e6c7-cdd5dd507bf6"
      },
      "source": [
        "from sklearn.preprocessing import OrdinalEncoder\n",
        "\n",
        "# get this non-numerical column\n",
        "sequence_Name_col = df_without_small_Instance_Class[['Sequence_Name']]\n",
        "print(sequence_Name_col.head())\n",
        "\n",
        "# transform category to numerical\n",
        "ordinal_encoder = OrdinalEncoder()\n",
        "sequence_Name_col_encoded = ordinal_encoder.fit_transform(sequence_Name_col)"
      ],
      "execution_count": null,
      "outputs": [
        {
          "output_type": "stream",
          "text": [
            "  Sequence_Name\n",
            "0     AAT_ECOLI\n",
            "1    ACEA_ECOLI\n",
            "2    ACEK_ECOLI\n",
            "3    ACKA_ECOLI\n",
            "4     ADI_ECOLI\n"
          ],
          "name": "stdout"
        }
      ]
    },
    {
      "cell_type": "code",
      "metadata": {
        "colab": {
          "base_uri": "https://localhost:8080/"
        },
        "id": "aqVEMBI16eqW",
        "outputId": "1103b8b9-9df3-45e2-9640-5165d4847cc3"
      },
      "source": [
        "print(sequence_Name_col_encoded[:5])"
      ],
      "execution_count": null,
      "outputs": [
        {
          "output_type": "stream",
          "text": [
            "[[1.]\n",
            " [2.]\n",
            " [3.]\n",
            " [4.]\n",
            " [5.]]\n"
          ],
          "name": "stdout"
        }
      ]
    },
    {
      "cell_type": "code",
      "metadata": {
        "id": "f_fHfR4V92D5"
      },
      "source": [
        "# drop the non-numerical column\n",
        "df_num = df_without_small_Instance_Class.drop('Sequence_Name',axis=1)\n",
        "\n",
        "# Also, drop the index column\n",
        "df_num = df_num.drop('index',axis=1)"
      ],
      "execution_count": null,
      "outputs": []
    },
    {
      "cell_type": "markdown",
      "metadata": {
        "id": "bzs9IPPa3wZd"
      },
      "source": [
        "For Classification, features wirh all unique values are useless. I decided drop it instead of keeping it."
      ]
    },
    {
      "cell_type": "markdown",
      "metadata": {
        "id": "KU3l9-cw_2Yc"
      },
      "source": [
        "* Check for null values"
      ]
    },
    {
      "cell_type": "code",
      "metadata": {
        "colab": {
          "base_uri": "https://localhost:8080/",
          "height": 49
        },
        "id": "Ctt2fhJ_vk5y",
        "outputId": "bf7d9e46-43ec-4602-c0ce-6d746d2e1caa"
      },
      "source": [
        "df_num[df_num.isnull().any(axis=1)]"
      ],
      "execution_count": null,
      "outputs": [
        {
          "output_type": "execute_result",
          "data": {
            "text/html": [
              "<div>\n",
              "<style scoped>\n",
              "    .dataframe tbody tr th:only-of-type {\n",
              "        vertical-align: middle;\n",
              "    }\n",
              "\n",
              "    .dataframe tbody tr th {\n",
              "        vertical-align: top;\n",
              "    }\n",
              "\n",
              "    .dataframe thead th {\n",
              "        text-align: right;\n",
              "    }\n",
              "</style>\n",
              "<table border=\"1\" class=\"dataframe\">\n",
              "  <thead>\n",
              "    <tr style=\"text-align: right;\">\n",
              "      <th></th>\n",
              "      <th>mcg</th>\n",
              "      <th>gvh</th>\n",
              "      <th>lip</th>\n",
              "      <th>chg</th>\n",
              "      <th>aac</th>\n",
              "      <th>alm1</th>\n",
              "      <th>alm2</th>\n",
              "      <th>class</th>\n",
              "    </tr>\n",
              "  </thead>\n",
              "  <tbody>\n",
              "  </tbody>\n",
              "</table>\n",
              "</div>"
            ],
            "text/plain": [
              "Empty DataFrame\n",
              "Columns: [mcg, gvh, lip, chg, aac, alm1, alm2, class]\n",
              "Index: []"
            ]
          },
          "metadata": {
            "tags": []
          },
          "execution_count": 11
        }
      ]
    },
    {
      "cell_type": "markdown",
      "metadata": {
        "id": "7hXz6tZPvpmG"
      },
      "source": [
        "double check"
      ]
    },
    {
      "cell_type": "code",
      "metadata": {
        "id": "m9C6Sgv8_1LX"
      },
      "source": [
        "NoneRowIndex = list(df_num[df_num.isin(['None']).any(axis=1)].index)"
      ],
      "execution_count": null,
      "outputs": []
    },
    {
      "cell_type": "code",
      "metadata": {
        "colab": {
          "base_uri": "https://localhost:8080/"
        },
        "id": "3lAA9BA6s_xd",
        "outputId": "d11c6c2d-c8b8-48c1-aa92-026e94301085"
      },
      "source": [
        "print('Rows index of None Value: ',NoneRowIndex)"
      ],
      "execution_count": null,
      "outputs": [
        {
          "output_type": "stream",
          "text": [
            "Rows index of None Value:  []\n"
          ],
          "name": "stdout"
        }
      ]
    },
    {
      "cell_type": "markdown",
      "metadata": {
        "id": "GaaIAKJyCIrD"
      },
      "source": [
        "No None value found"
      ]
    },
    {
      "cell_type": "markdown",
      "metadata": {
        "id": "ONTk0zRaFMAc"
      },
      "source": [
        "* Split data"
      ]
    },
    {
      "cell_type": "code",
      "metadata": {
        "colab": {
          "base_uri": "https://localhost:8080/"
        },
        "id": "iyYS-xH8FI_V",
        "outputId": "6f25c43d-cfe7-400e-f26d-64c4007e9e25"
      },
      "source": [
        "# Prepare X\n",
        "X = df_num.drop('class',axis=1).values\n",
        "print(X[:5])"
      ],
      "execution_count": null,
      "outputs": [
        {
          "output_type": "stream",
          "text": [
            "[[0.49 0.29 0.48 0.5  0.56 0.24 0.35]\n",
            " [0.07 0.4  0.48 0.5  0.54 0.35 0.44]\n",
            " [0.56 0.4  0.48 0.5  0.49 0.37 0.46]\n",
            " [0.59 0.49 0.48 0.5  0.52 0.45 0.36]\n",
            " [0.23 0.32 0.48 0.5  0.55 0.25 0.35]]\n"
          ],
          "name": "stdout"
        }
      ]
    },
    {
      "cell_type": "code",
      "metadata": {
        "colab": {
          "base_uri": "https://localhost:8080/"
        },
        "id": "qc3JpgThE3Vi",
        "outputId": "7556b546-e132-4d68-9178-4300040db144"
      },
      "source": [
        "# Prepare y \n",
        "y = df_num['class'].copy().values\n",
        "print(y[:5])"
      ],
      "execution_count": null,
      "outputs": [
        {
          "output_type": "stream",
          "text": [
            "['cp' 'cp' 'cp' 'cp' 'cp']\n"
          ],
          "name": "stdout"
        }
      ]
    },
    {
      "cell_type": "markdown",
      "metadata": {
        "id": "S6qbfEOBGbwA"
      },
      "source": [
        "Train Test Split Done"
      ]
    },
    {
      "cell_type": "markdown",
      "metadata": {
        "id": "yA78ZFWrI9U6"
      },
      "source": [
        "# Part2: Train model on unscaled data and scaled data."
      ]
    },
    {
      "cell_type": "markdown",
      "metadata": {
        "id": "MZUGxmhwIbIw"
      },
      "source": [
        "### 1. Unscaled:"
      ]
    },
    {
      "cell_type": "code",
      "metadata": {
        "colab": {
          "base_uri": "https://localhost:8080/"
        },
        "id": "WoWMz-gdJHYL",
        "outputId": "2dc7b287-cb3e-43bb-f7a8-1d40fb4ea118"
      },
      "source": [
        "from sklearn.model_selection import GridSearchCV\n",
        "from sklearn.tree import DecisionTreeClassifier\n",
        "from sklearn.metrics import accuracy_score\n",
        "\n",
        "# set min_samples_leaf, criterion and max_depth as parameters (each with 2-3 options)\n",
        "params1 = {'min_samples_leaf': [1,3,5], 'criterion': ['gini', 'entropy'],'max_depth': [5,3,4]}\n",
        "grid_search_cv_unscaled = GridSearchCV(DecisionTreeClassifier(random_state=1), params1, verbose=1, cv=3)\n",
        "\n",
        "grid_search_cv_unscaled.fit(X, y);"
      ],
      "execution_count": null,
      "outputs": [
        {
          "output_type": "stream",
          "text": [
            "Fitting 3 folds for each of 18 candidates, totalling 54 fits\n"
          ],
          "name": "stdout"
        },
        {
          "output_type": "stream",
          "text": [
            "[Parallel(n_jobs=1)]: Using backend SequentialBackend with 1 concurrent workers.\n",
            "[Parallel(n_jobs=1)]: Done  54 out of  54 | elapsed:    0.1s finished\n"
          ],
          "name": "stderr"
        }
      ]
    },
    {
      "cell_type": "code",
      "metadata": {
        "colab": {
          "base_uri": "https://localhost:8080/"
        },
        "id": "NxMMgCZsDFjL",
        "outputId": "5d03dd82-34bd-44a7-9e0e-a247ce0bfdf8"
      },
      "source": [
        "unscaled_dt = grid_search_cv_unscaled.best_estimator_\n",
        "print('(Unscaled set)best params: ',grid_search_cv_unscaled.best_params_)"
      ],
      "execution_count": null,
      "outputs": [
        {
          "output_type": "stream",
          "text": [
            "(Unscaled set)best params:  {'criterion': 'gini', 'max_depth': 4, 'min_samples_leaf': 3}\n"
          ],
          "name": "stdout"
        }
      ]
    },
    {
      "cell_type": "markdown",
      "metadata": {
        "id": "mjxFBGvmIjsH"
      },
      "source": [
        "## 2. Scaled"
      ]
    },
    {
      "cell_type": "markdown",
      "metadata": {
        "id": "3arVYXAB2nLV"
      },
      "source": [
        "Import standard scaler and scale both train and test set"
      ]
    },
    {
      "cell_type": "code",
      "metadata": {
        "id": "mg_uQcsNIlrx"
      },
      "source": [
        "from sklearn.preprocessing import StandardScaler\n",
        "\n",
        "scaler = StandardScaler()\n",
        "# scale data:\n",
        "scaled_data = scaler.fit_transform(X)"
      ],
      "execution_count": null,
      "outputs": []
    },
    {
      "cell_type": "code",
      "metadata": {
        "colab": {
          "base_uri": "https://localhost:8080/"
        },
        "id": "QD07jsaoJuge",
        "outputId": "7bf0cc34-ceea-483a-f658-3c7d42a3d9b0"
      },
      "source": [
        "params2 = {'min_samples_leaf': [1,5,10], 'criterion': ['gini', 'entropy'],'max_depth': [3,5,6]}\n",
        "grid_search_cv_scaled = GridSearchCV(DecisionTreeClassifier(random_state=1), params2, verbose=1, cv=3)\n",
        "grid_search_cv_scaled.fit(scaled_data, y);"
      ],
      "execution_count": null,
      "outputs": [
        {
          "output_type": "stream",
          "text": [
            "Fitting 3 folds for each of 18 candidates, totalling 54 fits\n"
          ],
          "name": "stdout"
        },
        {
          "output_type": "stream",
          "text": [
            "[Parallel(n_jobs=1)]: Using backend SequentialBackend with 1 concurrent workers.\n",
            "[Parallel(n_jobs=1)]: Done  54 out of  54 | elapsed:    0.1s finished\n"
          ],
          "name": "stderr"
        }
      ]
    },
    {
      "cell_type": "code",
      "metadata": {
        "colab": {
          "base_uri": "https://localhost:8080/"
        },
        "id": "-colpG7kKHqC",
        "outputId": "2e84b30d-d92f-47ad-f946-03f5bc26ab78"
      },
      "source": [
        "scaled_dt = grid_search_cv_scaled.best_estimator_\n",
        "print('(Scaled set) best params: ',grid_search_cv_scaled.best_params_)"
      ],
      "execution_count": null,
      "outputs": [
        {
          "output_type": "stream",
          "text": [
            "(Scaled set) best params:  {'criterion': 'gini', 'max_depth': 5, 'min_samples_leaf': 5}\n"
          ],
          "name": "stdout"
        }
      ]
    },
    {
      "cell_type": "markdown",
      "metadata": {
        "id": "vhFIjyBUpTf2"
      },
      "source": [
        "## 3. Compare"
      ]
    },
    {
      "cell_type": "code",
      "metadata": {
        "id": "sYWNyGSbbcse"
      },
      "source": [
        "from sklearn.model_selection import cross_val_predict\n",
        "\n",
        "y_pred_unscaled = cross_val_predict(unscaled_dt, X, y, cv=3);\n",
        "y_pred_scaled = cross_val_predict(scaled_dt, scaled_data, y, cv=3);"
      ],
      "execution_count": null,
      "outputs": []
    },
    {
      "cell_type": "markdown",
      "metadata": {
        "id": "IzxQF8aV2MvW"
      },
      "source": [
        "* Compare average F1-scores"
      ]
    },
    {
      "cell_type": "code",
      "metadata": {
        "id": "kO4WdWl32HJ0"
      },
      "source": [
        "from sklearn.metrics import f1_score"
      ],
      "execution_count": null,
      "outputs": []
    },
    {
      "cell_type": "code",
      "metadata": {
        "id": "Emp5CAAB40Y_"
      },
      "source": [
        "unscaled_f1 = f1_score(y, y_pred_unscaled, average='weighted')\n",
        "scaled_f1 = f1_score(y, y_pred_scaled, average='weighted')"
      ],
      "execution_count": null,
      "outputs": []
    },
    {
      "cell_type": "code",
      "metadata": {
        "colab": {
          "base_uri": "https://localhost:8080/"
        },
        "id": "1cfFQGUg5wXB",
        "outputId": "ee70981a-0a83-418b-e275-28bb7c478d2f"
      },
      "source": [
        "print('unscaled set f1 score: ',unscaled_f1 )\n",
        "print('scaled set f1 score: ',scaled_f1 )"
      ],
      "execution_count": null,
      "outputs": [
        {
          "output_type": "stream",
          "text": [
            "unscaled set f1 score:  0.8305455058393724\n",
            "scaled set f1 score:  0.8220382689019724\n"
          ],
          "name": "stdout"
        }
      ]
    },
    {
      "cell_type": "markdown",
      "metadata": {
        "id": "2N8Zb2223z72"
      },
      "source": [
        "* Compare confusion matrixs"
      ]
    },
    {
      "cell_type": "code",
      "metadata": {
        "id": "5EsOeshi2VdS"
      },
      "source": [
        "from sklearn.metrics import confusion_matrix, ConfusionMatrixDisplay\n",
        "\n",
        "def draw_matrix(labels_test,pred):\n",
        "  cm = confusion_matrix(labels_test, pred)\n",
        "  cmd = ConfusionMatrixDisplay(cm, display_labels=['cp','im','pp','imU','om'])\n",
        "  fig, ax = plt.subplots(figsize=(7,7))\n",
        "  cmd.plot(ax=ax,values_format='d')"
      ],
      "execution_count": null,
      "outputs": []
    },
    {
      "cell_type": "code",
      "metadata": {
        "colab": {
          "base_uri": "https://localhost:8080/",
          "height": 434
        },
        "id": "63LiwOMN24zc",
        "outputId": "86adb8f2-b106-4f2a-8225-c7c54992ddc5"
      },
      "source": [
        "print('confusion matrix of unscaled set: ')\n",
        "draw_matrix(y,y_pred_unscaled)"
      ],
      "execution_count": null,
      "outputs": [
        {
          "output_type": "stream",
          "text": [
            "confusion matrix of unscaled set: \n"
          ],
          "name": "stdout"
        },
        {
          "output_type": "display_data",
          "data": {
            "image/png": "[encoded data removed]",
            "text/plain": [
              "<Figure size 504x504 with 2 Axes>"
            ]
          },
          "metadata": {
            "tags": [],
            "needs_background": "light"
          }
        }
      ]
    },
    {
      "cell_type": "code",
      "metadata": {
        "colab": {
          "base_uri": "https://localhost:8080/",
          "height": 434
        },
        "id": "-DvfmQTm5uSa",
        "outputId": "4dae8dd6-902e-4f1f-a8ca-499820342dfc"
      },
      "source": [
        "print('confusion matrix of scaled set: ')\n",
        "draw_matrix(y,y_pred_scaled)"
      ],
      "execution_count": null,
      "outputs": [
        {
          "output_type": "stream",
          "text": [
            "confusion matrix of scaled set: \n"
          ],
          "name": "stdout"
        },
        {
          "output_type": "display_data",
          "data": {
            "image/png": "[encoded data removed]",
            "text/plain": [
              "<Figure size 504x504 with 2 Axes>"
            ]
          },
          "metadata": {
            "tags": [],
            "needs_background": "light"
          }
        }
      ]
    },
    {
      "cell_type": "markdown",
      "metadata": {
        "id": "FC1vdMNP4RLE"
      },
      "source": [
        "The result of unscaled set is better."
      ]
    },
    {
      "cell_type": "markdown",
      "metadata": {
        "id": "De2hFw766exF"
      },
      "source": [
        "## Conclusion: In this Porject, for decision tree, unscaled set is better than scaled set.\n",
        "\n",
        "---\n",
        "\n"
      ]
    },
    {
      "cell_type": "markdown",
      "metadata": {
        "id": "6b8DVbDRoZn0"
      },
      "source": [
        "# Project 2"
      ]
    },
    {
      "cell_type": "markdown",
      "metadata": {
        "id": "tGNIwmz5rFp5"
      },
      "source": [
        "## 1. read data"
      ]
    },
    {
      "cell_type": "code",
      "metadata": {
        "id": "m9H7UNAMoiLt"
      },
      "source": [
        "# read slump data from file\n",
        "pslump = pd.read_csv('slump_test.data')"
      ],
      "execution_count": null,
      "outputs": []
    },
    {
      "cell_type": "code",
      "metadata": {
        "colab": {
          "base_uri": "https://localhost:8080/",
          "height": 204
        },
        "id": "OQImQyB9p6az",
        "outputId": "5ea3b0ef-92da-4ff2-aad5-26cd2c797458"
      },
      "source": [
        "# check first few lines\n",
        "pslump.head()"
      ],
      "execution_count": null,
      "outputs": [
        {
          "output_type": "execute_result",
          "data": {
            "text/html": [
              "<div>\n",
              "<style scoped>\n",
              "    .dataframe tbody tr th:only-of-type {\n",
              "        vertical-align: middle;\n",
              "    }\n",
              "\n",
              "    .dataframe tbody tr th {\n",
              "        vertical-align: top;\n",
              "    }\n",
              "\n",
              "    .dataframe thead th {\n",
              "        text-align: right;\n",
              "    }\n",
              "</style>\n",
              "<table border=\"1\" class=\"dataframe\">\n",
              "  <thead>\n",
              "    <tr style=\"text-align: right;\">\n",
              "      <th></th>\n",
              "      <th>No</th>\n",
              "      <th>Cement</th>\n",
              "      <th>Slag</th>\n",
              "      <th>Fly ash</th>\n",
              "      <th>Water</th>\n",
              "      <th>SP</th>\n",
              "      <th>Coarse Aggr.</th>\n",
              "      <th>Fine Aggr.</th>\n",
              "      <th>SLUMP(cm)</th>\n",
              "      <th>FLOW(cm)</th>\n",
              "      <th>Compressive Strength (28-day)(Mpa)</th>\n",
              "    </tr>\n",
              "  </thead>\n",
              "  <tbody>\n",
              "    <tr>\n",
              "      <th>0</th>\n",
              "      <td>1</td>\n",
              "      <td>273.0</td>\n",
              "      <td>82.0</td>\n",
              "      <td>105.0</td>\n",
              "      <td>210.0</td>\n",
              "      <td>9.0</td>\n",
              "      <td>904.0</td>\n",
              "      <td>680.0</td>\n",
              "      <td>23.0</td>\n",
              "      <td>62.0</td>\n",
              "      <td>34.99</td>\n",
              "    </tr>\n",
              "    <tr>\n",
              "      <th>1</th>\n",
              "      <td>2</td>\n",
              "      <td>163.0</td>\n",
              "      <td>149.0</td>\n",
              "      <td>191.0</td>\n",
              "      <td>180.0</td>\n",
              "      <td>12.0</td>\n",
              "      <td>843.0</td>\n",
              "      <td>746.0</td>\n",
              "      <td>0.0</td>\n",
              "      <td>20.0</td>\n",
              "      <td>41.14</td>\n",
              "    </tr>\n",
              "    <tr>\n",
              "      <th>2</th>\n",
              "      <td>3</td>\n",
              "      <td>162.0</td>\n",
              "      <td>148.0</td>\n",
              "      <td>191.0</td>\n",
              "      <td>179.0</td>\n",
              "      <td>16.0</td>\n",
              "      <td>840.0</td>\n",
              "      <td>743.0</td>\n",
              "      <td>1.0</td>\n",
              "      <td>20.0</td>\n",
              "      <td>41.81</td>\n",
              "    </tr>\n",
              "    <tr>\n",
              "      <th>3</th>\n",
              "      <td>4</td>\n",
              "      <td>162.0</td>\n",
              "      <td>148.0</td>\n",
              "      <td>190.0</td>\n",
              "      <td>179.0</td>\n",
              "      <td>19.0</td>\n",
              "      <td>838.0</td>\n",
              "      <td>741.0</td>\n",
              "      <td>3.0</td>\n",
              "      <td>21.5</td>\n",
              "      <td>42.08</td>\n",
              "    </tr>\n",
              "    <tr>\n",
              "      <th>4</th>\n",
              "      <td>5</td>\n",
              "      <td>154.0</td>\n",
              "      <td>112.0</td>\n",
              "      <td>144.0</td>\n",
              "      <td>220.0</td>\n",
              "      <td>10.0</td>\n",
              "      <td>923.0</td>\n",
              "      <td>658.0</td>\n",
              "      <td>20.0</td>\n",
              "      <td>64.0</td>\n",
              "      <td>26.82</td>\n",
              "    </tr>\n",
              "  </tbody>\n",
              "</table>\n",
              "</div>"
            ],
            "text/plain": [
              "   No  Cement   Slag  ...  SLUMP(cm)  FLOW(cm)  Compressive Strength (28-day)(Mpa)\n",
              "0   1   273.0   82.0  ...       23.0      62.0                               34.99\n",
              "1   2   163.0  149.0  ...        0.0      20.0                               41.14\n",
              "2   3   162.0  148.0  ...        1.0      20.0                               41.81\n",
              "3   4   162.0  148.0  ...        3.0      21.5                               42.08\n",
              "4   5   154.0  112.0  ...       20.0      64.0                               26.82\n",
              "\n",
              "[5 rows x 11 columns]"
            ]
          },
          "metadata": {
            "tags": []
          },
          "execution_count": 29
        }
      ]
    },
    {
      "cell_type": "code",
      "metadata": {
        "colab": {
          "base_uri": "https://localhost:8080/",
          "height": 879
        },
        "id": "GWxFJKmMqs_A",
        "outputId": "5636ee9b-1636-4131-b6e7-c83416b5bcfd"
      },
      "source": [
        "# check distribution\n",
        "pslump.hist(figsize=(20,15));"
      ],
      "execution_count": null,
      "outputs": [
        {
          "output_type": "display_data",
          "data": {
            "image/png": "[encoded data removed]",
            "text/plain": [
              "<Figure size 1440x1080 with 12 Axes>"
            ]
          },
          "metadata": {
            "tags": [],
            "needs_background": "light"
          }
        }
      ]
    },
    {
      "cell_type": "markdown",
      "metadata": {
        "id": "8X9FlB-FrBvn"
      },
      "source": [
        "## 2. prepare data "
      ]
    },
    {
      "cell_type": "code",
      "metadata": {
        "id": "bEnXCdWTbqQ9"
      },
      "source": [
        "from sklearn.preprocessing import StandardScaler\n",
        "scaler = StandardScaler()\n",
        "\n",
        "def prepareData(df, y_need, x_drop,scaler):\n",
        "  # drop missing values, and then reset index\n",
        "  df = df.dropna().reset_index(drop=True)\n",
        "  # split X and y\n",
        "  y = df[y_need].copy().values.ravel()\n",
        "  df = df.drop(x_drop,axis=1)\n",
        "  X = df.values\n",
        "  # create the scaled set\n",
        "  scaled_X = scaler.fit_transform(X)\n",
        "  return X,scaled_X,y"
      ],
      "execution_count": null,
      "outputs": []
    },
    {
      "cell_type": "code",
      "metadata": {
        "id": "MQur_sTVdk7c"
      },
      "source": [
        "y_need = ['Compressive Strength (28-day)(Mpa)']\n",
        "x_drop = ['No', 'SLUMP(cm)', 'FLOW(cm)', 'Compressive Strength (28-day)(Mpa)']"
      ],
      "execution_count": null,
      "outputs": []
    },
    {
      "cell_type": "code",
      "metadata": {
        "id": "tL4eIb6ddweS"
      },
      "source": [
        "X,scaled_X,y = prepareData(pslump,y_need,x_drop,scaler)"
      ],
      "execution_count": null,
      "outputs": []
    },
    {
      "cell_type": "markdown",
      "metadata": {
        "id": "HvempPSEzhML"
      },
      "source": [
        "## 3. Train Model"
      ]
    },
    {
      "cell_type": "markdown",
      "metadata": {
        "id": "ChwMgVoD1fI2"
      },
      "source": [
        "Set parameters for decision tree regressor and support vector regressor"
      ]
    },
    {
      "cell_type": "code",
      "metadata": {
        "id": "LDxmB1FqTwGY"
      },
      "source": [
        "from sklearn.svm import SVR\n",
        "from sklearn.tree import DecisionTreeRegressor\n",
        "\n",
        "# Prepare parameters for grid search cv\n",
        "params_dt1 = {'min_samples_leaf': [1,2,3], 'criterion': ['mse'],'max_depth': [3,4,5]}\n",
        "params_dt2 = {'min_samples_leaf': [2,3,4], 'criterion': ['mse'],'max_depth': [2,3,4]}\n",
        "params_sv = {'kernel': ['rbf','linear','poly'],'C':[1,2,3],'gamma':['scale', 'auto']}"
      ],
      "execution_count": null,
      "outputs": []
    },
    {
      "cell_type": "code",
      "metadata": {
        "id": "FiSbLxmlWWNK"
      },
      "source": [
        "def DoPredict(estimator, parameters, X, y):\n",
        "  # create model\n",
        "  model = GridSearchCV(estimator, parameters, verbose=1, cv=3, refit=True)\n",
        "  # fit model and check best params\n",
        "  md = model.fit(X,y)\n",
        "  print(\"The Best Parameters: \", md.best_params_)\n",
        "  # retun prediction\n",
        "  return cross_val_predict(md.best_estimator_, X, y, cv=3);"
      ],
      "execution_count": null,
      "outputs": []
    },
    {
      "cell_type": "markdown",
      "metadata": {
        "id": "WAxkcKFHzkEB"
      },
      "source": [
        "* 1 decision tree regressor (unscaled set)\n"
      ]
    },
    {
      "cell_type": "code",
      "metadata": {
        "colab": {
          "base_uri": "https://localhost:8080/"
        },
        "id": "58Vmiq5H4eID",
        "outputId": "d0a41cb5-719c-48d6-ad08-8ba00c1c2e9d"
      },
      "source": [
        "predict1 = DoPredict(DecisionTreeRegressor(random_state=1), params_dt1, X, y)"
      ],
      "execution_count": null,
      "outputs": [
        {
          "output_type": "stream",
          "text": [
            "Fitting 3 folds for each of 9 candidates, totalling 27 fits\n",
            "The Best Parameters:  {'criterion': 'mse', 'max_depth': 4, 'min_samples_leaf': 1}\n"
          ],
          "name": "stdout"
        },
        {
          "output_type": "stream",
          "text": [
            "[Parallel(n_jobs=1)]: Using backend SequentialBackend with 1 concurrent workers.\n",
            "[Parallel(n_jobs=1)]: Done  27 out of  27 | elapsed:    0.2s finished\n"
          ],
          "name": "stderr"
        }
      ]
    },
    {
      "cell_type": "markdown",
      "metadata": {
        "id": "LBqyIrLnzuXm"
      },
      "source": [
        "* 2 decision tree regressor (scaled set)"
      ]
    },
    {
      "cell_type": "code",
      "metadata": {
        "colab": {
          "base_uri": "https://localhost:8080/"
        },
        "id": "fV65rN5I5yaI",
        "outputId": "b640eb25-08f5-4eaa-b9d8-fb74d0d5c2bf"
      },
      "source": [
        "predict2 = DoPredict(DecisionTreeRegressor(random_state=1), params_dt2, scaled_X, y)"
      ],
      "execution_count": null,
      "outputs": [
        {
          "output_type": "stream",
          "text": [
            "Fitting 3 folds for each of 9 candidates, totalling 27 fits\n"
          ],
          "name": "stdout"
        },
        {
          "output_type": "stream",
          "text": [
            "[Parallel(n_jobs=1)]: Using backend SequentialBackend with 1 concurrent workers.\n"
          ],
          "name": "stderr"
        },
        {
          "output_type": "stream",
          "text": [
            "The Best Parameters:  {'criterion': 'mse', 'max_depth': 3, 'min_samples_leaf': 4}\n"
          ],
          "name": "stdout"
        },
        {
          "output_type": "stream",
          "text": [
            "[Parallel(n_jobs=1)]: Done  27 out of  27 | elapsed:    0.1s finished\n"
          ],
          "name": "stderr"
        }
      ]
    },
    {
      "cell_type": "markdown",
      "metadata": {
        "id": "aWwZDuthzvdS"
      },
      "source": [
        "* 3 support vector regressor (scaled set)"
      ]
    },
    {
      "cell_type": "code",
      "metadata": {
        "colab": {
          "base_uri": "https://localhost:8080/"
        },
        "id": "ABv86q_zzBRu",
        "outputId": "27104ada-b557-4596-de03-12b136e74c4d"
      },
      "source": [
        "predict3 = DoPredict(SVR(), params_sv, scaled_X, y)"
      ],
      "execution_count": null,
      "outputs": [
        {
          "output_type": "stream",
          "text": [
            "Fitting 3 folds for each of 18 candidates, totalling 54 fits\n",
            "The Best Parameters:  {'C': 3, 'gamma': 'scale', 'kernel': 'linear'}\n"
          ],
          "name": "stdout"
        },
        {
          "output_type": "stream",
          "text": [
            "[Parallel(n_jobs=1)]: Using backend SequentialBackend with 1 concurrent workers.\n",
            "[Parallel(n_jobs=1)]: Done  54 out of  54 | elapsed:    0.1s finished\n"
          ],
          "name": "stderr"
        }
      ]
    },
    {
      "cell_type": "markdown",
      "metadata": {
        "id": "lCRSu6Pp7Ltc"
      },
      "source": [
        "## 4. Compare "
      ]
    },
    {
      "cell_type": "code",
      "metadata": {
        "colab": {
          "base_uri": "https://localhost:8080/"
        },
        "id": "Kx4vMW1Q7PCW",
        "outputId": "b96e365e-cc46-467c-ab1a-7d6a3c0da38b"
      },
      "source": [
        "from sklearn.metrics import mean_squared_error\n",
        "print(\"MEAN SQUARE ERROR: \")\n",
        "print('1. Decision Tree Regressor + unscaled Data:', mean_squared_error(y, predict1))\n",
        "print('2. Decision Tree Regressor + scaled Data:', mean_squared_error(y, predict2))\n",
        "print('3. Support Vector Regressor + scaled Data:', mean_squared_error(y, predict3))"
      ],
      "execution_count": null,
      "outputs": [
        {
          "output_type": "stream",
          "text": [
            "MEAN SQUARE ERROR: \n",
            "1. Decision Tree Regressor + unscaled Data: 24.711001134518913\n",
            "2. Decision Tree Regressor + scaled Data: 24.424336479147385\n",
            "3. Support Vector Regressor + scaled Data: 7.693810496445841\n"
          ],
          "name": "stdout"
        }
      ]
    },
    {
      "cell_type": "markdown",
      "metadata": {
        "id": "Jskgt0Ok-GqX"
      },
      "source": [
        "As the mean square error of three regressors,  Support Vector Regressor + scaled Data is better than Decision Tree Regressor + scaled Data, and Decision Tree Regressor + unscaled Data is better than Decision Tree Regressor + scaled Data.\n",
        "\n",
        "\n",
        "---\n",
        "\n",
        "better than 3."
      ]
    },
    {
      "cell_type": "code",
      "metadata": {
        "colab": {
          "base_uri": "https://localhost:8080/",
          "height": 350
        },
        "id": "WsLPHRij-hKq",
        "outputId": "839456db-44ab-4f1b-8441-13e824df7373"
      },
      "source": [
        "import matplotlib.pyplot as plt\n",
        "\n",
        "fig, (ax1, ax2, ax3) = plt.subplots(1,3,figsize=(20,5))\n",
        "\n",
        "\n",
        "def myScatterPlot(ax, title, true, prediction):\n",
        "  ax.plot([0,60], [0,60], 'k-', alpha=0.75, zorder=0)\n",
        "  ax.set_xlabel('True')\n",
        "  ax.set_ylabel('Prediction')\n",
        "  ax.scatter(true, prediction);\n",
        "  ax.title.set_text(title)\n",
        "\n",
        "myScatterPlot(ax1, 'Decision Tree Regressor + unscaled Data', y, predict1)\n",
        "myScatterPlot(ax2, 'Decision Tree Regressor + scaled Data', y, predict2)\n",
        "myScatterPlot(ax3, 'Support Vector Regressor + scaled Data', y, predict3)\n",
        "\n"
      ],
      "execution_count": null,
      "outputs": [
        {
          "output_type": "display_data",
          "data": {
            "image/png": "[encoded data removed]",
            "text/plain": [
              "<Figure size 1440x360 with 3 Axes>"
            ]
          },
          "metadata": {
            "tags": [],
            "needs_background": "light"
          }
        }
      ]
    },
    {
      "cell_type": "markdown",
      "metadata": {
        "id": "YYZ1_F91I8wr"
      },
      "source": [
        "As the chart, The third chart is the best, those points are closer to the y=x line, that means the prediction values are more equal to true values."
      ]
    },
    {
      "cell_type": "markdown",
      "metadata": {
        "id": "HL1FhKiEFZz8"
      },
      "source": [
        "### Conclusion: For this project, as the mean square errors and charts show, Support Vector Regressor + scaled Data set is the best way to do the prediction, its result is the best out of these three ways. "
      ]
    }
  ]
}